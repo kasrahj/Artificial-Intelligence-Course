{
  "cells": [
    {
      "cell_type": "markdown",
      "metadata": {
        "id": "d0W-WuYsjWPP"
      },
      "source": [
        "# Artificial Intelligence Course - Fall 1402\n",
        "## Kasra Hajiheidari 810199400\n",
        "## Computer Assignment #2 - Reinforcement Learning"
      ]
    },
    {
      "cell_type": "markdown",
      "metadata": {
        "id": "ksnYjMyNPAcn"
      },
      "source": [
        "# Table of Contents\n",
        "\n",
        "- [Part 1: Value Iteration & Policy Iteration Algorithms](#1)\n",
        "    - [َQuestion 1:](#1-0)\n",
        "    - [َQuestion 2:](#1-1)\n",
        "    - [َQuestion 3:](#1-12)\n",
        "    - [َQuestion 4:](#1-2)\n",
        "    - [َQuestion 5:](#1-3)\n",
        "        - [Value Iteration](#1-3-1)\n",
        "        - [Policy Iteration](#1-3-2)\n",
        "    - [َQuestion 6:](#1-4)\n",
        "        - [Value Iteration](#1-4-1)\n",
        "        - [Policy Iteration](#1-4-2)\n",
        "- [Part 2: Q-Learning Algorithm](#2)\n",
        "    - [َQuestion 8:](#2-1)\n",
        "    - [َQuestion 9:](#2-2)\n",
        "    - [َQuestion 10:](#2-3)"
      ]
    },
    {
      "cell_type": "code",
      "execution_count": 1,
      "metadata": {
        "colab": {
          "base_uri": "https://localhost:8080/"
        },
        "id": "dpTWKluXMHP5",
        "outputId": "c266a373-c4f5-447c-9e6d-0ef4db81ab6d"
      },
      "outputs": [],
      "source": [
        "# import\n",
        "import numpy as np\n",
        "import gym"
      ]
    },
    {
      "cell_type": "markdown",
      "metadata": {
        "id": "EifP8FUKLXE7"
      },
      "source": [
        "<a name='1'></a>\n",
        "## Part 1: Value Iteration & Policy Iteration Algorithms"
      ]
    },
    {
      "cell_type": "code",
      "execution_count": 2,
      "metadata": {
        "colab": {
          "base_uri": "https://localhost:8080/"
        },
        "id": "8LizJeOYRMEq",
        "outputId": "d6dc17a9-61bf-4d25-b53f-55cd4ff40d84"
      },
      "outputs": [
        {
          "data": {
            "text/plain": [
              "{'render_modes': ['human', 'ansi', 'rgb_array'], 'render_fps': 4}"
            ]
          },
          "execution_count": 2,
          "metadata": {},
          "output_type": "execute_result"
        }
      ],
      "source": [
        "import matplotlib.pyplot as plt\n",
        "import time\n",
        "from IPython.display import clear_output\n",
        "env = gym.make('FrozenLake-v1',render_mode=\"human\", desc=None, map_name=\"4x4\", is_slippery=False)\n",
        "env.metadata"
      ]
    },
    {
      "cell_type": "markdown",
      "metadata": {
        "id": "iVJmGmCUnIGR"
      },
      "source": [
        "<a name='1-0'></a>\n",
        "### Question 1:"
      ]
    },
    {
      "cell_type": "markdown",
      "metadata": {
        "id": "xRDhQMwwnK2s"
      },
      "source": [
        "Value Iteration:\n",
        "The main goal is to find the optimal value function for a Markov Decision Process.\n",
        "To achive this goal we initialize the value function arbitrarily. Then we iteratively update the value of each state by considering the maximum expected cumulative reward achievable from that state and we repeat until convergence. After convergence we extract the optimal policy from the converged values.\n",
        "So we can say the main idea is to evaluate and improve the value function iteratively."
      ]
    },
    {
      "cell_type": "markdown",
      "metadata": {
        "id": "MO24LtBGLXZ7"
      },
      "source": [
        "<a name='1-1'></a>\n",
        "### Question 2:"
      ]
    },
    {
      "cell_type": "code",
      "execution_count": 3,
      "metadata": {
        "id": "VKP8LjK5jGoW"
      },
      "outputs": [],
      "source": [
        "mapper = {0:\"←\" , 1:\"↓\" , 2:\"→\" , 3:\"↑\"}\n",
        "class ValueIteration():\n",
        "    def __init__(self, env, discount_factor, theta=1e-8):\n",
        "        self.env = env\n",
        "        self.discount_factor = discount_factor\n",
        "        self.theta = theta\n",
        "        self.reset()\n",
        "        self.state_values = np.zeros((self.env.observation_space.n)) / self.env.action_space.n\n",
        "        self.q_values = np.zeros((self.env.observation_space.n, self.env.action_space.n)) / self.env.action_space.n\n",
        "        self.state_values[self.env.observation_space.n - 1] = 0\n",
        "        self.q_values[self.env.observation_space.n - 1] = np.zeros((self.env.action_space.n))\n",
        "\n",
        "\n",
        "    def value_estimation(self):\n",
        "        # self.delta = np.inf\n",
        "        i = 0\n",
        "        while(i < 100):\n",
        "            i+=1\n",
        "            # self.delta = 0\n",
        "\n",
        "            for state in range(self.env.observation_space.n):\n",
        "\n",
        "                v = self.state_values[state]\n",
        "\n",
        "                for action in range(self.env.action_space.n):\n",
        "                    action_value = 0\n",
        "                    for probability, next_state, reward, done in self.env.P[state][action]:\n",
        "                        ### START CODE HERE ###\n",
        "                        if(done):\n",
        "                          action_value += probability*reward\n",
        "                        else:\n",
        "                          action_value += probability*(reward + self.discount_factor*self.state_values[next_state])\n",
        "                        ### END CODE HERE ###\n",
        "                    self.q_values[state, action] = action_value\n",
        "\n",
        "                self.state_values[state] = np.max(self.q_values[state,:])\n",
        "\n",
        "                # self.delta = np.max([self.delta, abs(v - self.state_values[state])])\n",
        "\n",
        "    def take_action(self, action):\n",
        "        next_state, reward, done, truc, info = self.env.step(action)\n",
        "        return next_state, reward, done\n",
        "\n",
        "    def get_optimal_policy(self, state):\n",
        "        return np.argmax(self.q_values[state,:])\n",
        "\n",
        "    def optimal_policy(self):\n",
        "        policy = [[],[],[],[]]\n",
        "        for i in range(4):\n",
        "          for j in range(4):\n",
        "            policy[i].append(self.get_optimal_policy(i*4 +j))\n",
        "        return policy\n",
        "\n",
        "    def print_state_values(self):\n",
        "        for i in range(4):\n",
        "          print(str([format(float(value), \".4F\") for value in self.state_values[i*4:i*4+4]]))\n",
        "\n",
        "    def print_q_state_values(self):\n",
        "        for i in range(16):\n",
        "          print(str([format(float(value), \".4F\") for value in self.q_values[i]]))\n",
        "\n",
        "    def print_optimal_policy(self):\n",
        "        policy = [[],[],[],[]]\n",
        "        op = self.optimal_policy()\n",
        "        for i in range(4):\n",
        "          for j in range(4):\n",
        "            policy[i].append(mapper[op[i][j]])\n",
        "          print(policy[i])\n",
        "\n",
        "    def show_optimal_play(self):\n",
        "        env.reset()\n",
        "        state = 0;\n",
        "        done = False\n",
        "        while (not done):\n",
        "        #   frame = env.render()\n",
        "        #   clear_output()\n",
        "        #   plt.imshow(np.squeeze(frame))\n",
        "        #   plt.axis(\"off\")\n",
        "        #   plt.show()\n",
        "          time.sleep(1)\n",
        "          state,reward,done = self.take_action(self.get_optimal_policy(state))\n",
        "        self.env.close()\n",
        "\n",
        "    def get_state_values(self):\n",
        "        return self.state_values\n",
        "\n",
        "    def get_q_values(self):\n",
        "        return self.q_values\n",
        "\n",
        "    def reset(self):\n",
        "        initial_state = self.env.reset()\n",
        "        return initial_state"
      ]
    },
    {
      "cell_type": "markdown",
      "metadata": {
        "id": "frjc5mR4ncm1"
      },
      "source": [
        "<a name='1-12'></a>\n",
        "### Question 3:"
      ]
    },
    {
      "cell_type": "markdown",
      "metadata": {
        "id": "AMJJpf1tnddF"
      },
      "source": [
        "Policy Iteration:\n",
        "The main goal is to find the optimal policy for a Markov Decision Process.\n",
        "To achive that we initialize a random policy arbitrarily. Then iteratively evaluate the policy (compute the value function for the policy) that is called policy-evaluation. Then we improve the policy by selecting actions that maximize expected cumulative reward that is called policy-improvement. We have to repeat this two steps until convergence.\n",
        "The main idea is to alternate between policy evaluation and policy improvement until an optimal policy is found."
      ]
    },
    {
      "cell_type": "markdown",
      "metadata": {
        "id": "V4DcH5yJLXqH"
      },
      "source": [
        "<a name='1-2'></a>\n",
        "### Question 4:"
      ]
    },
    {
      "cell_type": "code",
      "execution_count": 4,
      "metadata": {
        "id": "XjSb1lX147hd"
      },
      "outputs": [],
      "source": [
        "class PolicyIteration():\n",
        "    def __init__(self, env, discount_factor, theta=1e-8):\n",
        "        self.env = env\n",
        "        self.discount_factor = discount_factor\n",
        "        self.theta = theta\n",
        "        self.reset()\n",
        "        self.state_values = np.zeros((self.env.observation_space.n)) / self.env.action_space.n\n",
        "        self.q_values = np.zeros((self.env.observation_space.n, self.env.action_space.n)) / self.env.action_space.n\n",
        "        self.state_values[self.env.observation_space.n - 1] = 0\n",
        "        self.q_values[self.env.observation_space.n - 1] = np.zeros((self.env.action_space.n))\n",
        "        self.policy = np.random.randint(self.env.action_space.n, size=self.env.observation_space.n) # initial policy\n",
        "        self.policy_stable = False\n",
        "\n",
        "    def policy_evaluation(self):\n",
        "        self.delta = np.inf\n",
        "        i = 0\n",
        "        while(i < 100):\n",
        "            i+=1\n",
        "            self.delta = 0\n",
        "\n",
        "            for state in range(self.env.observation_space.n):\n",
        "\n",
        "                v = self.state_values[state]\n",
        "\n",
        "                new_state_value = 0\n",
        "                for probability, next_state, reward, done in self.env.P[state][self.policy[state]]:\n",
        "                    ### START CODE HERE ###\n",
        "                    if(done):\n",
        "                      new_state_value += probability*reward\n",
        "                    else:\n",
        "                      new_state_value += probability*(reward + self.discount_factor*self.state_values[next_state])\n",
        "                    ### END CODE HERE ###\n",
        "                self.state_values[state] = new_state_value\n",
        "\n",
        "                self.delta = np.max([self.delta, abs(v - self.state_values[state])])\n",
        "\n",
        "    def policy_improvement(self):\n",
        "        self.policy_stable = True\n",
        "\n",
        "        for state in range(self.env.observation_space.n):\n",
        "            old_policy = self.policy[state]\n",
        "\n",
        "            for action in range(self.env.action_space.n):\n",
        "\n",
        "                action_value = 0\n",
        "                for probability, next_state, reward, done in self.env.P[state][action]:\n",
        "                    ### START CODE HERE ###\n",
        "                    if(done):\n",
        "                      action_value += probability*reward\n",
        "                    else:\n",
        "                      action_value += probability*(reward + self.discount_factor*self.state_values[next_state])\n",
        "                    ### END CODE HERE ###\n",
        "                self.q_values[state, action] = action_value\n",
        "\n",
        "            self.policy[state] = np.argmax(self.q_values[state,:])\n",
        "\n",
        "            if old_policy != self.policy[state]:\n",
        "                self.policy_stable = False\n",
        "\n",
        "    def policy_estimation(self):\n",
        "        self.policy_stable = False\n",
        "        j = 0\n",
        "        while not self.policy_stable:\n",
        "            j+=1\n",
        "            # print(j)\n",
        "            self.policy_evaluation()\n",
        "            self.policy_improvement()\n",
        "\n",
        "    def take_action(self, action):\n",
        "        next_state, reward, done, trunc, info = self.env.step(action)\n",
        "        return next_state, reward, done\n",
        "\n",
        "    def get_optimal_policy(self, state):\n",
        "        return self.policy[state]\n",
        "\n",
        "    def get_state_values(self):\n",
        "        return self.state_values\n",
        "\n",
        "    def get_q_values(self):\n",
        "        return self.q_values\n",
        "\n",
        "    def reset(self):\n",
        "        initial_state = self.env.reset()\n",
        "        return initial_state\n",
        "\n",
        "    def optimal_policy(self):\n",
        "        policy = [[],[],[],[]]\n",
        "        for i in range(4):\n",
        "          for j in range(4):\n",
        "            policy[i].append(self.get_optimal_policy(i*4 +j))\n",
        "        return policy\n",
        "\n",
        "    def print_state_values(self):\n",
        "        for i in range(4):\n",
        "          print(str([format(float(value), \".4F\") for value in self.state_values[i*4:i*4+4]]))\n",
        "\n",
        "    def print_q_state_values(self):\n",
        "        for i in range(16):\n",
        "          print(str([format(float(value), \".4F\") for value in self.q_values[i]]))\n",
        "\n",
        "    def print_optimal_policy(self):\n",
        "        policy = [[],[],[],[]]\n",
        "        op = self.optimal_policy()\n",
        "        for i in range(4):\n",
        "          for j in range(4):\n",
        "            policy[i].append(mapper[op[i][j]])\n",
        "          print(policy[i])\n",
        "\n",
        "    def show_optimal_play(self):\n",
        "        env.reset()\n",
        "        state = 0;\n",
        "        done = False\n",
        "        while (not done):\n",
        "        #   frame = env.render()\n",
        "        #   clear_output()\n",
        "        #   plt.imshow(np.squeeze(frame))\n",
        "        #   plt.axis(\"off\")\n",
        "        #   plt.show()\n",
        "          time.sleep(1)\n",
        "          state,reward,done = self.take_action(self.get_optimal_policy(state))\n",
        "        self.env.close()"
      ]
    },
    {
      "cell_type": "markdown",
      "metadata": {
        "id": "u4G-kVjmLYj4"
      },
      "source": [
        "<a name='1-3'></a>\n",
        "### Question 5:"
      ]
    },
    {
      "cell_type": "markdown",
      "metadata": {
        "id": "PB651-ZY4vjE"
      },
      "source": [
        "<a name='1-3-1'></a>\n",
        "#### Value Iteration:"
      ]
    },
    {
      "cell_type": "code",
      "execution_count": 5,
      "metadata": {
        "colab": {
          "base_uri": "https://localhost:8080/"
        },
        "id": "RGYLOfYAuKjY",
        "outputId": "6ef53008-b204-4167-802c-185c01454bc7"
      },
      "outputs": [
        {
          "name": "stdout",
          "output_type": "stream",
          "text": [
            "state values:\n",
            "['0.5905', '0.6561', '0.7290', '0.6561']\n",
            "['0.6561', '0.0000', '0.8100', '0.0000']\n",
            "['0.7290', '0.8100', '0.9000', '0.0000']\n",
            "['0.0000', '0.9000', '1.0000', '0.0000']\n",
            "q_state values:\n",
            "['0.5314', '0.5905', '0.5905', '0.5314']\n",
            "['0.5314', '0.0000', '0.6561', '0.5905']\n",
            "['0.5905', '0.7290', '0.5905', '0.6561']\n",
            "['0.6561', '0.0000', '0.5905', '0.5905']\n",
            "['0.5905', '0.6561', '0.0000', '0.5314']\n",
            "['0.0000', '0.0000', '0.0000', '0.0000']\n",
            "['0.0000', '0.8100', '0.0000', '0.6561']\n",
            "['0.0000', '0.0000', '0.0000', '0.0000']\n",
            "['0.6561', '0.0000', '0.7290', '0.5905']\n",
            "['0.6561', '0.8100', '0.8100', '0.0000']\n",
            "['0.7290', '0.9000', '0.0000', '0.7290']\n",
            "['0.0000', '0.0000', '0.0000', '0.0000']\n",
            "['0.0000', '0.0000', '0.0000', '0.0000']\n",
            "['0.0000', '0.8100', '0.9000', '0.7290']\n",
            "['0.8100', '0.9000', '1.0000', '0.8100']\n",
            "['0.0000', '0.0000', '0.0000', '0.0000']\n",
            "optimal poliacy:\n",
            "['↓', '→', '↓', '←']\n",
            "['↓', '←', '↓', '←']\n",
            "['→', '↓', '↓', '←']\n",
            "['←', '→', '→', '←']\n"
          ]
        }
      ],
      "source": [
        "val_iteration = ValueIteration(env,0.9)\n",
        "val_iteration.reset()\n",
        "val_iteration.value_estimation()\n",
        "print(\"state values:\")\n",
        "val_iteration.print_state_values()\n",
        "print(\"q_state values:\")\n",
        "val_iteration.print_q_state_values()\n",
        "print(\"optimal poliacy:\")\n",
        "val_iteration.print_optimal_policy()"
      ]
    },
    {
      "cell_type": "code",
      "execution_count": 6,
      "metadata": {
        "colab": {
          "base_uri": "https://localhost:8080/",
          "height": 406
        },
        "id": "Z-AR1ZsGT7c2",
        "outputId": "bd49958d-ec51-4641-9e58-4eae48a74831"
      },
      "outputs": [
        {
          "name": "stderr",
          "output_type": "stream",
          "text": [
            "c:\\Users\\Mr. Hajiheideri\\AppData\\Local\\Programs\\Python\\Python310\\lib\\site-packages\\gym\\utils\\passive_env_checker.py:233: DeprecationWarning: `np.bool8` is a deprecated alias for `np.bool_`.  (Deprecated NumPy 1.24)\n",
            "  if not isinstance(terminated, (bool, np.bool8)):\n"
          ]
        }
      ],
      "source": [
        "val_iteration.show_optimal_play()"
      ]
    },
    {
      "cell_type": "markdown",
      "metadata": {
        "id": "ipZlzoXH40Mn"
      },
      "source": [
        "<a name='1-3-2'></a>\n",
        "#### Policy Iteration:"
      ]
    },
    {
      "cell_type": "code",
      "execution_count": 7,
      "metadata": {},
      "outputs": [],
      "source": [
        "env = gym.make('FrozenLake-v1',render_mode=\"human\", desc=None, map_name=\"4x4\", is_slippery=False)"
      ]
    },
    {
      "cell_type": "code",
      "execution_count": 8,
      "metadata": {
        "colab": {
          "base_uri": "https://localhost:8080/"
        },
        "id": "7Vxf_xKc44QT",
        "outputId": "87e47336-acad-4f16-afa4-c781962a744f"
      },
      "outputs": [
        {
          "name": "stdout",
          "output_type": "stream",
          "text": [
            "state values:\n",
            "['0.5905', '0.6561', '0.7290', '0.6561']\n",
            "['0.6561', '0.0000', '0.8100', '0.0000']\n",
            "['0.7290', '0.8100', '0.9000', '0.0000']\n",
            "['0.0000', '0.9000', '1.0000', '0.0000']\n",
            "q_state values:\n",
            "['0.5314', '0.5905', '0.5905', '0.5314']\n",
            "['0.5314', '0.0000', '0.6561', '0.5905']\n",
            "['0.5905', '0.7290', '0.5905', '0.6561']\n",
            "['0.6561', '0.0000', '0.5905', '0.5905']\n",
            "['0.5905', '0.6561', '0.0000', '0.5314']\n",
            "['0.0000', '0.0000', '0.0000', '0.0000']\n",
            "['0.0000', '0.8100', '0.0000', '0.6561']\n",
            "['0.0000', '0.0000', '0.0000', '0.0000']\n",
            "['0.6561', '0.0000', '0.7290', '0.5905']\n",
            "['0.6561', '0.8100', '0.8100', '0.0000']\n",
            "['0.7290', '0.9000', '0.0000', '0.7290']\n",
            "['0.0000', '0.0000', '0.0000', '0.0000']\n",
            "['0.0000', '0.0000', '0.0000', '0.0000']\n",
            "['0.0000', '0.8100', '0.9000', '0.7290']\n",
            "['0.8100', '0.9000', '1.0000', '0.8100']\n",
            "['0.0000', '0.0000', '0.0000', '0.0000']\n",
            "optimal poliacy:\n",
            "['↓', '→', '↓', '←']\n",
            "['↓', '←', '↓', '←']\n",
            "['→', '↓', '↓', '←']\n",
            "['←', '→', '→', '←']\n"
          ]
        }
      ],
      "source": [
        "pol_iteration = PolicyIteration(env,0.9)\n",
        "pol_iteration.reset()\n",
        "pol_iteration.policy_estimation()\n",
        "print(\"state values:\")\n",
        "pol_iteration.print_state_values()\n",
        "print(\"q_state values:\")\n",
        "pol_iteration.print_q_state_values()\n",
        "print(\"optimal poliacy:\")\n",
        "pol_iteration.print_optimal_policy()"
      ]
    },
    {
      "cell_type": "code",
      "execution_count": 9,
      "metadata": {
        "colab": {
          "base_uri": "https://localhost:8080/",
          "height": 406
        },
        "id": "YyBEPjNMbght",
        "outputId": "f8f63824-4a12-44ec-f8bb-2b8bdb670ad7"
      },
      "outputs": [],
      "source": [
        "pol_iteration.show_optimal_play()"
      ]
    },
    {
      "cell_type": "markdown",
      "metadata": {
        "id": "A3fnAFqJLpVI"
      },
      "source": [
        "<a name='1-4'></a>\n",
        "### Question 6:"
      ]
    },
    {
      "cell_type": "markdown",
      "metadata": {
        "id": "7JuoMPH_PAcv"
      },
      "source": [
        "<a name='1-4-1'></a>\n",
        "#### Value Iteration:"
      ]
    },
    {
      "cell_type": "code",
      "execution_count": 10,
      "metadata": {
        "id": "vCBnAicAPAcv"
      },
      "outputs": [
        {
          "name": "stdout",
          "output_type": "stream",
          "text": [
            "average value estimation time = 0.043551177500194174\n"
          ]
        }
      ],
      "source": [
        "env = gym.make('FrozenLake-v1',render_mode=\"ansi\", desc=None, map_name=\"4x4\", is_slippery=False)\n",
        "estimation_time = 0\n",
        "for i in range(40): \n",
        "    val_iteration = ValueIteration(env,0.9)\n",
        "    val_iteration.reset()\n",
        "    start = time.perf_counter()\n",
        "    val_iteration.value_estimation() \n",
        "    end = time.perf_counter()\n",
        "    estimation_time += end - start\n",
        "print(\"average value estimation time = \" + str(estimation_time / 40))\n"
      ]
    },
    {
      "cell_type": "markdown",
      "metadata": {
        "id": "C1BMk-BfPAcv"
      },
      "source": [
        "<a name='1-4-2'></a>\n",
        "#### Policy Iteration:"
      ]
    },
    {
      "cell_type": "code",
      "execution_count": 11,
      "metadata": {
        "id": "LnUZpvLP446n"
      },
      "outputs": [
        {
          "name": "stdout",
          "output_type": "stream",
          "text": [
            "average policy estimation time = 0.17455808250088012\n"
          ]
        }
      ],
      "source": [
        "env = gym.make('FrozenLake-v1',render_mode=\"ansi\", desc=None, map_name=\"4x4\", is_slippery=False)\n",
        "estimation_time = 0\n",
        "for i in range(40): \n",
        "    pol_iteration = PolicyIteration(env,0.9)\n",
        "    pol_iteration.reset()\n",
        "    start = time.perf_counter()\n",
        "    pol_iteration.policy_estimation() \n",
        "    end = time.perf_counter()\n",
        "    estimation_time += end - start\n",
        "print(\"average policy estimation time = \" + str(estimation_time / 40))"
      ]
    },
    {
      "cell_type": "markdown",
      "metadata": {},
      "source": [
        "As shown above,we calculate the total time of convergence for both algorithm for 40 iterations.The obtained values ​​are very close to each other, but the main point is that if the policy gets fixed quickly,the policy iteration algorithm is better because it only evaluates values after the policy gets fixed and not policy improvement, but in the other side value iteration does both in every iterations so in that case policy iteration can be better. "
      ]
    },
    {
      "cell_type": "markdown",
      "metadata": {},
      "source": [
        "### Question 7:\n",
        "Q-learning is a method that learns from interacting with the environment, making it suitable for situations where the MDP model is unknown or hard to obtain.\n",
        "The main goal is to learn an optimal action-value function without knowing the complete MDP model.\n",
        "To achive that, at first we have to initialize Q-values arbitrarily for all state-action pairs.Then we interact with the environment: Choose actions based on exploration (epsilon-greedy) or based on best Q-values, observe rewards, and update Q-values using the Bellman equation and repeat that for a sufficient number of episodes.\n",
        "After converging of the algorithm,we extract the policy from the learned Q-values (by choosing the action with the highest Q-value for each state).\n",
        "In the end the main idea is to learn the optimal action-values through exploration and exploitation, allowing the agent to make informed decisions without explicitly knowing the transition probabilities."
      ]
    },
    {
      "cell_type": "markdown",
      "metadata": {
        "id": "hLtPLm-ELpG9"
      },
      "source": [
        "<a name='2'></a>\n",
        "## Part 2: Q-Learning Algorithm"
      ]
    },
    {
      "cell_type": "code",
      "execution_count": 12,
      "metadata": {
        "id": "3cW_rkeDMOE8"
      },
      "outputs": [],
      "source": [
        "# hyperparameters\n",
        "REPS = 20\n",
        "EPISODES = 2000\n",
        "EPSILON = 0.1\n",
        "LEARNING_RATE = 0.1\n",
        "DISCOUNT = 0.9\n",
        "STUDENT_NUM = 400"
      ]
    },
    {
      "cell_type": "markdown",
      "metadata": {
        "id": "oZJAP4nMLpiZ"
      },
      "source": [
        "<a name='2-1'></a>\n",
        "### Question 8:"
      ]
    },
    {
      "cell_type": "code",
      "execution_count": 13,
      "metadata": {
        "id": "Ue4m5fg9450B"
      },
      "outputs": [],
      "source": [
        "import random\n",
        "class QLearningAgent():\n",
        "    def __init__(self, env, epsilon, learning_rate, discount_factor, seed):\n",
        "      self.env = env\n",
        "      self.epsilon = epsilon\n",
        "      self.learning_rate = learning_rate\n",
        "      self.olr = learning_rate\n",
        "      self.discount_factor = discount_factor\n",
        "      self.q_table = np.zeros((env.observation_space.n, env.action_space.n))\n",
        "      self.seed = seed\n",
        "      self.epsilon_min = 0.0\n",
        "      self.delta = (self.epsilon - self.epsilon_min) / 100\n",
        "\n",
        "    def choose_action(self, state):\n",
        "      ### START CODE HERE ###\n",
        "      # With probability epsilon, choose a random action\n",
        "      if random.random() <= self.epsilon: \n",
        "        action = self.env.action_space.sample()\n",
        "      else:\n",
        "        action = np.argmax(self.q_table[state,:])\n",
        "      # Otherwise, choose the action with the highest Q-value\n",
        "      # ### END CODE HERE ###\n",
        "      return action\n",
        "\n",
        "    def update_q_table(self, state, action, nextState, reward):\n",
        "      ### START CODE HERE ###\n",
        "      # Calculate the new Q-value using the Q-learning formula\n",
        "      # print(\"last value\",self.q_table[state][action])\n",
        "      self.q_table[state][action] = (1 - self.learning_rate)*self.q_table[state][action] \\\n",
        "      + self.learning_rate*(reward + self.discount_factor*np.max(self.q_table[nextState,:]))\n",
        "      # print(\"new value\",self.q_table[state][action])\n",
        "      ### END CODE HERE ###\n",
        "\n",
        "    def decay_epsilon(self):\n",
        "      ### START CODE HERE ###\n",
        "      self.epsilon = self.epsilon - self.delta\n",
        "      ### END CODE HERE ###\n",
        "\n",
        "    def decrease_learning_rate(self):\n",
        "      ### START CODE HERE ###\n",
        "      self.learning_rate = self.learning_rate * 0.98\n",
        "      ### END CODE HERE ###\n",
        "\n",
        "    def take_action(self, action):\n",
        "      next_state, reward, done, _ = self.env.step(action)\n",
        "      return next_state, reward, done\n",
        "\n",
        "    def get_optimal_policy(self, state):\n",
        "      return np.argmax(self.q_table[state])\n",
        "    \n",
        "\n",
        "    def get_q_values(self):\n",
        "      return self.q_table\n",
        "\n",
        "    def reset(self):\n",
        "      self.learning_rate = self.olr\n",
        "      return self.env.reset(seed=self.seed)\n",
        "    \n",
        "    def optimal_policy(self,state):\n",
        "      policy = []\n",
        "      for i in range(5):\n",
        "        for j in range(5):\n",
        "          policy[i].append(self.get_optimal_policy(i*5 +j))\n",
        "      return policy"
      ]
    },
    {
      "cell_type": "markdown",
      "metadata": {
        "id": "c5HFAMk-Lpvs"
      },
      "source": [
        "<a name='2-2'></a>\n",
        "### Question 9:"
      ]
    },
    {
      "cell_type": "code",
      "execution_count": 14,
      "metadata": {},
      "outputs": [
        {
          "data": {
            "image/png": "[encoded data removed]",
            "text/plain": [
              "<Figure size 640x480 with 1 Axes>"
            ]
          },
          "metadata": {},
          "output_type": "display_data"
        }
      ],
      "source": [
        "env = gym.make('Taxi-v3',render_mode=\"ansi\")\n",
        "env.reset(seed = STUDENT_NUM)\n",
        "x_fixed = np.array([x for x in range(1, REPS+1)])\n",
        "y_fixed = np.array([])\n",
        "x_reward_fixed = np.array([x for x in range(1, EPISODES+1)])\n",
        "y_reward_fixed = np.array([])\n",
        "\n",
        "\n",
        "for rep in range(REPS):\n",
        "    agent = QLearningAgent(env,EPSILON,LEARNING_RATE,DISCOUNT,STUDENT_NUM)\n",
        "    start = time.perf_counter_ns()\n",
        "    for episode in range(EPISODES):\n",
        "        Initial_state, _= agent.reset()\n",
        "        sum_rew = 0\n",
        "        while(True):\n",
        "            action = agent.choose_action(Initial_state)\n",
        "            next_state,rew,done,trunc,info = agent.env.step(action)\n",
        "            agent.update_q_table(Initial_state,action,next_state,rew)\n",
        "            Initial_state = next_state\n",
        "            sum_rew += rew\n",
        "            if done:\n",
        "                break\n",
        "        agent.decay_epsilon()\n",
        "        if(rep == 0):\n",
        "            y_reward_fixed = np.append(y_reward_fixed,sum_rew)    \n",
        "    end = time.perf_counter_ns()\n",
        "    y_fixed = np.append(y_fixed, (end-start) / (10**9))     \n",
        "plt.plot(x_reward_fixed, y_reward_fixed)\n",
        "plt.plot(x_reward_fixed, y_reward_fixed)\n",
        "plt.xlabel(\"2000 episodes\")\n",
        "plt.ylabel(\"Sum of reward for each ep\")\n",
        "plt.title(\"Policy improvement\")\n",
        "plt.grid()\n",
        "plt.show()"
      ]
    },
    {
      "cell_type": "markdown",
      "metadata": {},
      "source": [
        "As shown in the plot,the sum of the rewards in each episode is growing sufficiently and it means we have more accurate values and policy. Also the epsilon is decayed after each episode.There are several ways for epsilon_decay (like exponential or reward-based) and here for simplicity we decay epsilon linearly to the minimum epsilon value."
      ]
    },
    {
      "cell_type": "code",
      "execution_count": 15,
      "metadata": {
        "id": "qgRhXXmwo6MT"
      },
      "outputs": [
        {
          "data": {
            "image/png": "[encoded data removed]",
            "text/plain": [
              "<Figure size 640x480 with 1 Axes>"
            ]
          },
          "metadata": {},
          "output_type": "display_data"
        }
      ],
      "source": [
        "env = gym.make('Taxi-v3',render_mode=\"ansi\")\n",
        "env.reset(seed = STUDENT_NUM)\n",
        "x_decay = np.array([x for x in range(1, REPS+1)])\n",
        "y_decay = np.array([])\n",
        "for rep in range(REPS):\n",
        "    agent = QLearningAgent(env,EPSILON,0.2,DISCOUNT,STUDENT_NUM)\n",
        "    start = time.perf_counter_ns()\n",
        "    for episode in range(EPISODES):\n",
        "        Initial_state, _= agent.reset()\n",
        "        while(True):\n",
        "            action = agent.choose_action(Initial_state)\n",
        "            next_state,rew,done,trunc,info = agent.env.step(action)\n",
        "            agent.update_q_table(Initial_state,action,next_state,rew)\n",
        "            Initial_state = next_state\n",
        "            if done:\n",
        "                break\n",
        "        agent.decay_epsilon()\n",
        "        agent.decrease_learning_rate()\n",
        "    end = time.perf_counter_ns()\n",
        "    y_decay = np.append(y_decay, (end-start) / (10**9))\n",
        "plt.plot(x_fixed, y_fixed)\n",
        "plt.plot(x_fixed, y_fixed, color='blue')\n",
        "plt.plot(x_decay, y_decay, color='red')\n",
        "plt.xlabel(\"20 reps\")\n",
        "plt.ylabel(\"time to converge\")\n",
        "plt.title(\"Fixed and decayed learning rate compare\")\n",
        "plt.grid()\n",
        "plt.show()\n"
      ]
    },
    {
      "cell_type": "markdown",
      "metadata": {},
      "source": [
        "As shown in the plot, decreasing the learning rate caused better convergence of the algorithm than the fixed learning rate.\n",
        "To decay learning rate we start with 0.2 which is two times of fixed learning rate and then decrease it after each episode exponentially."
      ]
    },
    {
      "cell_type": "markdown",
      "metadata": {
        "id": "BVcMKEGDQWdU"
      },
      "source": [
        "<a name='2-3'></a>\n",
        "### Question 10:"
      ]
    },
    {
      "cell_type": "code",
      "execution_count": 16,
      "metadata": {
        "id": "FlHPV0kqQWdU"
      },
      "outputs": [
        {
          "name": "stdout",
          "output_type": "stream",
          "text": [
            "Maximum reward in optimal policy: 7\n"
          ]
        }
      ],
      "source": [
        "env2 = gym.make('Taxi-v3',render_mode=\"human\")\n",
        "# i = 0  \n",
        "Initial_state, _= env2.reset(seed = STUDENT_NUM) \n",
        "# print(env2.decode(Initial_State)) \n",
        "sum = 0   \n",
        "while(True):\n",
        "    # print(\"iteration:\", i)\n",
        "    op_action = agent.get_optimal_policy(Initial_state)\n",
        "    # print(\"action\",op_action)\n",
        "    next_state,rew,done,trunc,info = env2.step(op_action)\n",
        "    sum += rew\n",
        "    time.sleep(1)\n",
        "    # print(\"current state\",Initial_state,\"next_state:\",next_state,\" reward:\",rew,\" done:\",done)\n",
        "    Initial_state = next_state\n",
        "    # i+=1\n",
        "    if done:\n",
        "        break\n",
        "print(\"Maximum reward in optimal policy:\",sum)\n",
        "env2.close()"
      ]
    }
  ],
  "metadata": {
    "colab": {
      "provenance": []
    },
    "kernelspec": {
      "display_name": "Python 3",
      "language": "python",
      "name": "python3"
    },
    "language_info": {
      "codemirror_mode": {
        "name": "ipython",
        "version": 3
      },
      "file_extension": ".py",
      "mimetype": "text/x-python",
      "name": "python",
      "nbconvert_exporter": "python",
      "pygments_lexer": "ipython3",
      "version": "3.10.4"
    }
  },
  "nbformat": 4,
  "nbformat_minor": 0
}
