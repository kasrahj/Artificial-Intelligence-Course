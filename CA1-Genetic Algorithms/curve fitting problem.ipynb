{
 "cells": [
  {
   "cell_type": "markdown",
   "metadata": {},
   "source": [
    "# kasra hajiheidari 810199400\n",
    "Artificial inteligence CA1   \n",
    "solving curve fitting problem using genetic algorithms\n"
   ]
  },
  {
   "cell_type": "markdown",
   "metadata": {},
   "source": [
    "# Part 1: Basic concepts\n",
    "Each coefficient is considered as a gene \n",
    "A chromosome consists of n genes where n is the length degree of polynomial phrase.  \n",
    "For example in the following polynomial phrase: $$ a_{0} + a_{1}x^{1} + a_{2}x^{2} + ... + a_{n}x^{n} $$ The genes are: a<sub>0</sub> , a<sub>1</sub>, a<sub>2</sub> ,..., a<sub>n</sub> and all of these genes toghether generates a chromosome that is a answer to our problem. <br>\n",
    "Our input fields are:\n",
    "- `Degree of polynomial phrase`\n",
    "- `Range of coefficients`\n",
    "- `Points in polynomial phrase` <br>\n",
    "\n",
    "In the following class we store the input:"
   ]
  },
  {
   "cell_type": "code",
   "execution_count": 11,
   "metadata": {},
   "outputs": [],
   "source": [
    "class Input():\n",
    "    degree = 5\n",
    "    range = (-10,9)\n",
    "    points = [(3,0), (1,0), (-1,0), (2,-15), (-3,0)]"
   ]
  },
  {
   "cell_type": "markdown",
   "metadata": {},
   "source": [
    "Here we define our consts for following variables:\n",
    "- `population_size`: The count of all chromosomes which is called the population.\n",
    "- `max_generations`: The maximum number of generations that the algorithm will explore to find a solution.\n",
    "- `prob_crossover`: Probability of a crossover happening between two chromosomes.\n",
    "- `prob_mutate`: Probability of a mutation happening in a chromosome.\n",
    "- `prob_carry`: The percentage of the best chromosomes that will be carried directly to the next generation."
   ]
  },
  {
   "cell_type": "code",
   "execution_count": 12,
   "metadata": {},
   "outputs": [],
   "source": [
    "class Consts():\n",
    "    prob_crossover = 0.6\n",
    "    prob_mutate = 0.4\n",
    "    prob_carry = 0.15\n",
    "    population_size = 200\n",
    "    max_generations = 1000\n"
   ]
  },
  {
   "cell_type": "markdown",
   "metadata": {},
   "source": [
    "# Part 2: Initial population\n",
    "In this part we use `initial_population` function to randomly generate and initial the population list. \n",
    "This function uses `population_size` of `Consts` class and `range` of `Input` class to randomly generate all of the chromosomes in the population."
   ]
  },
  {
   "cell_type": "code",
   "execution_count": 13,
   "metadata": {},
   "outputs": [],
   "source": [
    "import random\n",
    "consts = Consts()\n",
    "inputs = Input()\n",
    "def initial_population(const : Consts, input : Input):\n",
    "    Population = []\n",
    "    for i in range (int(const.population_size)):\n",
    "        temp = []\n",
    "        for j in range (input.degree):\n",
    "            rand = random.randint(input.range[0], input.range[1])\n",
    "            temp.append(rand)\n",
    "        Population.append(temp)    \n",
    "    return Population           "
   ]
  },
  {
   "cell_type": "markdown",
   "metadata": {},
   "source": [
    "# Part 3: Fitness function\n",
    "We define `distance` for our goal points (for example (x,y)) from chromosomes as bellow: <br>\n",
    "`distance`  = |y -  f(x)| in which f() is our chromosome (polynomial phrase) and distance value is sum of all distances for all points. <br>\n",
    "\n",
    "After defining `distance` we define our `Fitnessfunction` as bellow:\n",
    "$$ Fitnessfunction = \\frac{1}{1 + distance^{2}} $$   \n",
    "The closer the chromosome is to the goalpoints, the higher the fitness will be and we are closer to our final goal.  \n",
    "The fitness is between 0 and 1. The fitness of 1 means that the chromosome is our solution.\n",
    "Also `chromo_value` function calculates f(x).\n",
    "\n",
    "\n"
   ]
  },
  {
   "cell_type": "code",
   "execution_count": 14,
   "metadata": {},
   "outputs": [],
   "source": [
    "chromosome = []\n",
    "def chromo_value(x, chromo):\n",
    "    value = 0\n",
    "    x_value = 1\n",
    "    for i in range(len(chromo)):\n",
    "        value +=  chromo[i]*x_value\n",
    "        x_value = x_value * x\n",
    "    return value\n",
    "\n",
    "def fitnessfunc(input : Input, chromo):\n",
    "    distance = 0.0\n",
    "    for point in input.points:\n",
    "        point_x = point[0]\n",
    "        point_y = point[1]\n",
    "        distance += abs(point_y - chromo_value(point_x, chromo))\n",
    "    fitness_value = distance\n",
    "    return fitness_value\n"
   ]
  },
  {
   "cell_type": "markdown",
   "metadata": {},
   "source": [
    "# Part 4: Genetic operations and generating next population\n",
    "- First of all we use `create_carriedpool` function to sort population by fitnessvalue and select a number of best chromosomes in a generation to carry to next generation.\n",
    "\n",
    "- Then we use `create_matingpool` function to generate a new population to perfom genetic algorithms on them(crossover and mutation).Size of these pool is same as our main population.Each member is chosen by a fortune wheel where the better chromosomes have a higher chance of winning. \n",
    "``\n",
    "- In the next step we use `create_crossoverpool` function to generate a modified population in which some pairs of chromosomes with propability of `prob_crossover` will be crossed over.(can be 1-point or n-point cross over)\n",
    "\n",
    "- In the end we use `create_mutatepool` function to modify the population created by `create_crossover` function.Some chromosomes, with the chance of `prob_mutate`, have had a single gene of them mutated to a random number to help the diversity of our population.We concat this pool and carriedpool to generate our next generation population."
   ]
  },
  {
   "cell_type": "code",
   "execution_count": 15,
   "metadata": {},
   "outputs": [],
   "source": [
    "import copy\n",
    "def create_carriedpool(consts : Consts, fitnesses : list[float] ,Population : list[chromosome]):\n",
    "    carrycount = int(len(Population)*consts.prob_carry)\n",
    "    caried_pool = Population[:carrycount]\n",
    "    return copy.deepcopy(caried_pool)\n",
    "\n",
    "def create_matingpool(Population : list[chromosome],fitnesses : list[float]):\n",
    "    total_fitness = sum(fitnesses)\n",
    "    probs = [f / total_fitness for f in fitnesses]\n",
    "    cumulative_distribution = [sum(probs[:i + 1]) for i in range(len(probs))]\n",
    "    mating_pool = []\n",
    "    for _ in Population:\n",
    "        random_value = random.random() \n",
    "        for i, prob in enumerate(cumulative_distribution):\n",
    "            if random_value <= prob:\n",
    "                mating_pool.append(copy.deepcopy(Population[i]))\n",
    "                break\n",
    "    return copy.deepcopy(mating_pool)\n",
    "\n",
    "def create_crossoverpool(Population : list[chromosome], prob_crossover, degree):\n",
    "    crossovernum = len(Population)*prob_crossover\n",
    "    crossovernum = int(crossovernum / 2)\n",
    "    crossover_pool = copy.deepcopy(Population)\n",
    "    for i in range(crossovernum):\n",
    "        crosindex1 = random.randint(0,len(Population) - 1)\n",
    "        crosindex2 = random.randint(0,len(Population) - 1)\n",
    "        cross_point = random.randint(1, len(crossover_pool[i]) -2)\n",
    "        crossover_pool[crosindex1][:cross_point], crossover_pool[crosindex2][:cross_point] = crossover_pool[crosindex2][:cross_point], crossover_pool[crosindex1][:cross_point]\n",
    "    return crossover_pool\n",
    "        \n",
    "def create_mutatepool(population: list[chromosome], prob_mutate: float, point_range):\n",
    "    mutatepool = copy.deepcopy(population)\n",
    "    for j in range(len(mutatepool)):\n",
    "        for i in range(len(mutatepool[j])):\n",
    "            if random.random() < prob_mutate:\n",
    "                mutatepool[j][i] = random.randint(point_range[0], point_range[1]) \n",
    "    return mutatepool"
   ]
  },
  {
   "cell_type": "markdown",
   "metadata": {},
   "source": [
    "# Part 5: Genetic algorithm\n",
    "\n",
    "`find_p_phrase` function does the process of finding the polynomial phrase.<br>\n",
    "We use a while loop to generate and modify each generation until we found solution or we reach `max_generations` value.\n",
    "\n",
    "At first we shuffle population, then we calculate fitnessvalue for every chromosome and check if we find our solution or not. (fitnessvalue = 1)\n",
    "Then we create carriedpool, matingpool, crossoverpool, and mutatepool. After that we concat carriedpool and mutatepool which means some chromosome in mutatepool is discarded in order to have the same Population size for next generation."
   ]
  },
  {
   "cell_type": "code",
   "execution_count": 16,
   "metadata": {},
   "outputs": [
    {
     "name": "stdout",
     "output_type": "stream",
     "text": [
      "9 0 -10 0 1\n"
     ]
    }
   ],
   "source": [
    "def find_p_phrase(input : Input, consts : Consts):\n",
    "    generation = 0\n",
    "    Population = initial_population(consts, input)\n",
    "    \n",
    "    while generation < consts.max_generations:\n",
    "        generation += 1\n",
    "        fitnesses = []\n",
    "        maxfitnessvalue = 0.0\n",
    "        flag = False\n",
    "        for chromo in Population:\n",
    "            fitnesses.append(fitnessfunc(input,chromo))    \n",
    "        combined = list(zip(Population,fitnesses))\n",
    "        sorted_population = sorted(combined, key=lambda x : x[1])\n",
    "        new_pop = [pair[0] for pair in sorted_population]\n",
    "        if sorted_population[0][1] == 0:\n",
    "            return sorted_population[0][0]\n",
    "        # print(sorted_population[0][1])\n",
    "        carriedpool = create_carriedpool(consts, fitnesses, new_pop)\n",
    "        matingpool = create_matingpool(new_pop, fitnesses)\n",
    "        crossoverpool = create_crossoverpool(matingpool, consts.prob_crossover, input.degree) \n",
    "        mutatepool = create_mutatepool(crossoverpool, consts.prob_mutate, input.range)\n",
    "        Population = mutatepool[:len(Population) - len(carriedpool)]\n",
    "        Population.extend(carriedpool)\n",
    "    return None\n",
    "        \n",
    "result = find_p_phrase(inputs, consts)\n",
    "if result is None:\n",
    "    print('Could not find phrase.')\n",
    "else:\n",
    "    print(*result)\n",
    "    \n"
   ]
  },
  {
   "cell_type": "code",
   "execution_count": 17,
   "metadata": {},
   "outputs": [
    {
     "data": {
      "image/png": "[encoded data removed]",
      "text/plain": [
       "<Figure size 640x480 with 1 Axes>"
      ]
     },
     "metadata": {},
     "output_type": "display_data"
    }
   ],
   "source": [
    "import matplotlib.pyplot as plt\n",
    "import numpy as np\n",
    "from numpy import inf\n",
    "\n",
    "points = inputs.points\n",
    "min_x = float(+inf)\n",
    "max_x = float(-inf)\n",
    "for p in points:\n",
    "    if(p[0] < min_x):\n",
    "        min_x = p[0]\n",
    "    if(p[0] > max_x):\n",
    "        max_x = p[0]\n",
    "x = np.linspace(min_x - 1, max_x + 1 , abs(min_x - max_x) * 100)\n",
    "\n",
    "result.reverse()\n",
    "y = np.polyval(result, x)\n",
    "plt.plot(x, y)\n",
    "plt.grid(True)\n",
    "\n",
    "x0 = [p[0] for p in points]\n",
    "y0 = [p[1] for p in points]\n",
    "plt.scatter(x0, y0, color='red')\n",
    "plt.show()"
   ]
  },
  {
   "cell_type": "markdown",
   "metadata": {},
   "source": [
    "# Questions:\n",
    "1. If the population size is too big, the algorithm will take more time and process to converge and in the other hand if the population size is too small, it leads to reduced diversity, resulting in fewer cases being evaluated in each generation. Consequently, the probability of converging to the correct solution within the same number of generations decreases. This situation can be improved by increasing the mutation probability and more diversity and allowing for more generations to be examined.\n",
    "\n",
    "2. When the population size increases with each generation, it can lead to improved algorithm precision due to increased diversity. However, this also results in increased time and memory consumption at each step, which can become problematic.\n",
    "As said before the main is to keep the population size same but make it better in every generation and discarding the ones that are not good.\n",
    "\n",
    "3. Typically, crossover is applied with a considerably higher probability than mutation. This is because crossover aims to create improved chromosomes by combining the attributes of two chromosomes, while mutation serves the purpose of preventing the algorithm from becoming trapped by changing the genes directly. Relying solely on one of these mechanisms would be insufficient, as they each offer distinct effects and contributions to the optimization process.\"\n",
    "\n",
    "4. The major thing in solving this kind of problems are parameters and well defining functions as fitnessfunction. Choosing the right amount for each parameter can lead to a better diversity and maybe faster converge.The combination of good selection and diversity can lead to a good algorithm.\n",
    "\n",
    "5. Because of randomness of mutation we always have new chromosomes on next generations.We can change the implementation and we can increase the probability of mutation and apply it to a larger number of genes within a chromosome. Additionally, running the algorithm multiple times with new random populations can enhance diversity, potentially facilitating better exploration of the solution space in each run\n",
    "\n",
    "6. We can set an upper limit on the number of generations generated by the algorithm and identify the best solution within all these generations. If the algorithm fails to converge within these limits, we can output the best result found during the process.\n",
    "\n",
    "7. As the polynomial degree increases, the time required to find the coefficients using genetic algorithms is expected to rise. This is primarily due to the larger number of coefficients to be determined in higher degree polynomials, which expands the search space for the genetic algorithm. A broader search space makes it more challenging and time-intensive for the algorithm to identify the optimal solution. However, the actual impact on the time required for coefficient determination can vary based on the genetic algorithm's implementation details and the problem's complexity.\n",
    "\n",
    "8. Adding more points significantly increases the computational effort required to calculate fitness values. Additionally, it can reduce the number of potential solutions since the answer must encompass all the added points. As a result, convergence can become a more time-consuming process.\n",
    "Conversely, reducing the number of points accelerates fitness calculations and expedites the search for solutions"
   ]
  },
  {
   "cell_type": "markdown",
   "metadata": {},
   "source": []
  }
 ],
 "metadata": {
  "kernelspec": {
   "display_name": "Python 3",
   "language": "python",
   "name": "python3"
  },
  "language_info": {
   "codemirror_mode": {
    "name": "ipython",
    "version": 3
   },
   "file_extension": ".py",
   "mimetype": "text/x-python",
   "name": "python",
   "nbconvert_exporter": "python",
   "pygments_lexer": "ipython3",
   "version": "3.10.4"
  }
 },
 "nbformat": 4,
 "nbformat_minor": 2
}
